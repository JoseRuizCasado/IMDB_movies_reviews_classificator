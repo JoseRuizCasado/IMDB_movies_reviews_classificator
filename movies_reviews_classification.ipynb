{
 "cells": [
  {
   "cell_type": "markdown",
   "id": "dbd91661",
   "metadata": {},
   "source": [
    "# IMDB movies reviews classification\n",
    "In this notebook I will follow example from Deep Learning for Python book. I will use Tensorflow 2.0"
   ]
  },
  {
   "cell_type": "markdown",
   "id": "f00a6a08",
   "metadata": {},
   "source": [
    "## Data Loading\n",
    "First of all load data from keras. We got dataset splitted in two sets:\n",
    "    - Train dataset\n",
    "    - Test dataset\n",
    "num_words=10000 restrict the loaded dato to top 10.000 most frequent words, so the max index in the dataset will not exceed 10.000."
   ]
  },
  {
   "cell_type": "code",
   "execution_count": 2,
   "id": "406d3599",
   "metadata": {},
   "outputs": [
    {
     "name": "stdout",
     "output_type": "stream",
     "text": [
      "MAX Index: 9999\n"
     ]
    }
   ],
   "source": [
    "from tensorflow.keras.datasets import imdb\n",
    "(train_data, train_labels), (test_data, test_labels) = imdb.load_data(num_words=10000)\n",
    "print(f'MAX Index: {max([max(sequence) for sequence in train_data])}')"
   ]
  },
  {
   "cell_type": "markdown",
   "id": "2f1ea154",
   "metadata": {},
   "source": [
    "To decode on of the loaded review from numbers to English word index is needed."
   ]
  },
  {
   "cell_type": "code",
   "execution_count": 3,
   "id": "d0f2c6ea",
   "metadata": {},
   "outputs": [
    {
     "name": "stdout",
     "output_type": "stream",
     "text": [
      "Review: [1, 14, 22, 16, 43, 530, 973, 1622, 1385, 65, 458, 4468, 66, 3941, 4, 173, 36, 256, 5, 25, 100, 43, 838, 112, 50, 670, 2, 9, 35, 480, 284, 5, 150, 4, 172, 112, 167, 2, 336, 385, 39, 4, 172, 4536, 1111, 17, 546, 38, 13, 447, 4, 192, 50, 16, 6, 147, 2025, 19, 14, 22, 4, 1920, 4613, 469, 4, 22, 71, 87, 12, 16, 43, 530, 38, 76, 15, 13, 1247, 4, 22, 17, 515, 17, 12, 16, 626, 18, 2, 5, 62, 386, 12, 8, 316, 8, 106, 5, 4, 2223, 5244, 16, 480, 66, 3785, 33, 4, 130, 12, 16, 38, 619, 5, 25, 124, 51, 36, 135, 48, 25, 1415, 33, 6, 22, 12, 215, 28, 77, 52, 5, 14, 407, 16, 82, 2, 8, 4, 107, 117, 5952, 15, 256, 4, 2, 7, 3766, 5, 723, 36, 71, 43, 530, 476, 26, 400, 317, 46, 7, 4, 2, 1029, 13, 104, 88, 4, 381, 15, 297, 98, 32, 2071, 56, 26, 141, 6, 194, 7486, 18, 4, 226, 22, 21, 134, 476, 26, 480, 5, 144, 30, 5535, 18, 51, 36, 28, 224, 92, 25, 104, 4, 226, 65, 16, 38, 1334, 88, 12, 16, 283, 5, 16, 4472, 113, 103, 32, 15, 16, 5345, 19, 178, 32]\n",
      "Review decoding: ? this film was just brilliant casting location scenery story direction everyone's really suited the part they played and you could just imagine being there robert ? is an amazing actor and now the same being director ? father came from the same scottish island as myself so i loved the fact there was a real connection with this film the witty remarks throughout the film were great it was just brilliant so much that i bought the film as soon as it was released for ? and would recommend it to everyone to watch and the fly fishing was amazing really cried at the end it was so sad and you know what they say if you cry at a film it must have been good and this definitely was also ? to the two little boy's that played the ? of norman and paul they were just brilliant children are often left out of the ? list i think because the stars that play them all grown up are such a big profile for the whole film but these children are amazing and should be praised for what they have done don't you think the whole story was so lovely because it was true and was someone's life after all that was shared with us all\n"
     ]
    }
   ],
   "source": [
    "word_index = imdb.get_word_index()\n",
    "reversed_word_index = dict(\n",
    "    [(value, key) for (key, value) in word_index.items()])\n",
    "decoded_review = ' '.join(\n",
    "    [reversed_word_index.get(i - 3, '?') for i in train_data[0]])\n",
    "print(f'Review: {train_data[0]}')\n",
    "print(f'Review decoding: {decoded_review}')"
   ]
  },
  {
   "cell_type": "markdown",
   "id": "e5ceaa38",
   "metadata": {},
   "source": [
    "## Preparing the data\n",
    "A Neuronal Network need tensor as a input, so we need to transform each review to tensor. For this porpuse we use the One-Hot encoding for train and test data. One-Hot tensors will have shape of (10.000,0)\n",
    "Train and test labels are encoding as float."
   ]
  },
  {
   "cell_type": "code",
   "execution_count": 4,
   "id": "3b886e73",
   "metadata": {},
   "outputs": [],
   "source": [
    "import numpy as np\n",
    "def vectorize_sequences(sequence, dimension=10000):\n",
    "    results = np.zeros((len(sequence), dimension))\n",
    "    for i, sequence in enumerate(sequence):\n",
    "        results[i, sequence] = 1.\n",
    "        \n",
    "    return results\n",
    "    \n",
    "x_train = vectorize_sequences(train_data)\n",
    "x_test = vectorize_sequences(test_data)\n",
    "\n",
    "y_train = np.asarray(train_labels).astype('float32')\n",
    "y_test = np.asarray(test_labels).astype('float32')"
   ]
  },
  {
   "cell_type": "code",
   "execution_count": null,
   "id": "1864160b",
   "metadata": {},
   "outputs": [],
   "source": []
  }
 ],
 "metadata": {
  "kernelspec": {
   "display_name": "deep_learning",
   "language": "python",
   "name": "deep_learning"
  },
  "language_info": {
   "codemirror_mode": {
    "name": "ipython",
    "version": 3
   },
   "file_extension": ".py",
   "mimetype": "text/x-python",
   "name": "python",
   "nbconvert_exporter": "python",
   "pygments_lexer": "ipython3",
   "version": "3.8.0"
  }
 },
 "nbformat": 4,
 "nbformat_minor": 5
}
