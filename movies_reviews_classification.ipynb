{
 "cells": [
  {
   "cell_type": "markdown",
   "id": "dbd91661",
   "metadata": {},
   "source": [
    "# IMDB movies reviews classification\n",
    "In this notebook I will follow example from Deep Learning for Python book. I will use Tensorflow 2.0"
   ]
  },
  {
   "cell_type": "markdown",
   "id": "f00a6a08",
   "metadata": {},
   "source": [
    "## Data Loading\n",
    "First of all load data from keras. We got dataset splitted in two sets:\n",
    "    - Train dataset\n",
    "    - Test dataset\n",
    "num_words=10000 restrict the loaded dato to top 10.000 most frequent words, so the max index in the dataset will not exceed 10.000."
   ]
  },
  {
   "cell_type": "code",
   "execution_count": 1,
   "id": "406d3599",
   "metadata": {},
   "outputs": [
    {
     "name": "stderr",
     "output_type": "stream",
     "text": [
      "<__array_function__ internals>:5: VisibleDeprecationWarning: Creating an ndarray from ragged nested sequences (which is a list-or-tuple of lists-or-tuples-or ndarrays with different lengths or shapes) is deprecated. If you meant to do this, you must specify 'dtype=object' when creating the ndarray\n",
      "C:\\Users\\ala_j\\.conda\\envs\\deep_learning\\lib\\site-packages\\tensorflow\\python\\keras\\datasets\\imdb.py:159: VisibleDeprecationWarning: Creating an ndarray from ragged nested sequences (which is a list-or-tuple of lists-or-tuples-or ndarrays with different lengths or shapes) is deprecated. If you meant to do this, you must specify 'dtype=object' when creating the ndarray\n",
      "  x_train, y_train = np.array(xs[:idx]), np.array(labels[:idx])\n"
     ]
    },
    {
     "name": "stdout",
     "output_type": "stream",
     "text": [
      "MAX Index: 9999\n"
     ]
    },
    {
     "name": "stderr",
     "output_type": "stream",
     "text": [
      "C:\\Users\\ala_j\\.conda\\envs\\deep_learning\\lib\\site-packages\\tensorflow\\python\\keras\\datasets\\imdb.py:160: VisibleDeprecationWarning: Creating an ndarray from ragged nested sequences (which is a list-or-tuple of lists-or-tuples-or ndarrays with different lengths or shapes) is deprecated. If you meant to do this, you must specify 'dtype=object' when creating the ndarray\n",
      "  x_test, y_test = np.array(xs[idx:]), np.array(labels[idx:])\n"
     ]
    }
   ],
   "source": [
    "from tensorflow.keras.datasets import imdb\n",
    "(train_data, train_labels), (test_data, test_labels) = imdb.load_data(num_words=10000)\n",
    "print(f'MAX Index: {max([max(sequence) for sequence in train_data])}')"
   ]
  },
  {
   "cell_type": "markdown",
   "id": "2f1ea154",
   "metadata": {},
   "source": [
    "To decode on of the loaded review from numbers to English word index is needed."
   ]
  },
  {
   "cell_type": "code",
   "execution_count": 2,
   "id": "d0f2c6ea",
   "metadata": {},
   "outputs": [
    {
     "name": "stdout",
     "output_type": "stream",
     "text": [
      "Review: [1, 14, 22, 16, 43, 530, 973, 1622, 1385, 65, 458, 4468, 66, 3941, 4, 173, 36, 256, 5, 25, 100, 43, 838, 112, 50, 670, 2, 9, 35, 480, 284, 5, 150, 4, 172, 112, 167, 2, 336, 385, 39, 4, 172, 4536, 1111, 17, 546, 38, 13, 447, 4, 192, 50, 16, 6, 147, 2025, 19, 14, 22, 4, 1920, 4613, 469, 4, 22, 71, 87, 12, 16, 43, 530, 38, 76, 15, 13, 1247, 4, 22, 17, 515, 17, 12, 16, 626, 18, 2, 5, 62, 386, 12, 8, 316, 8, 106, 5, 4, 2223, 5244, 16, 480, 66, 3785, 33, 4, 130, 12, 16, 38, 619, 5, 25, 124, 51, 36, 135, 48, 25, 1415, 33, 6, 22, 12, 215, 28, 77, 52, 5, 14, 407, 16, 82, 2, 8, 4, 107, 117, 5952, 15, 256, 4, 2, 7, 3766, 5, 723, 36, 71, 43, 530, 476, 26, 400, 317, 46, 7, 4, 2, 1029, 13, 104, 88, 4, 381, 15, 297, 98, 32, 2071, 56, 26, 141, 6, 194, 7486, 18, 4, 226, 22, 21, 134, 476, 26, 480, 5, 144, 30, 5535, 18, 51, 36, 28, 224, 92, 25, 104, 4, 226, 65, 16, 38, 1334, 88, 12, 16, 283, 5, 16, 4472, 113, 103, 32, 15, 16, 5345, 19, 178, 32]\n",
      "Review decoding: ? this film was just brilliant casting location scenery story direction everyone's really suited the part they played and you could just imagine being there robert ? is an amazing actor and now the same being director ? father came from the same scottish island as myself so i loved the fact there was a real connection with this film the witty remarks throughout the film were great it was just brilliant so much that i bought the film as soon as it was released for ? and would recommend it to everyone to watch and the fly fishing was amazing really cried at the end it was so sad and you know what they say if you cry at a film it must have been good and this definitely was also ? to the two little boy's that played the ? of norman and paul they were just brilliant children are often left out of the ? list i think because the stars that play them all grown up are such a big profile for the whole film but these children are amazing and should be praised for what they have done don't you think the whole story was so lovely because it was true and was someone's life after all that was shared with us all\n"
     ]
    }
   ],
   "source": [
    "word_index = imdb.get_word_index()\n",
    "reversed_word_index = dict(\n",
    "    [(value, key) for (key, value) in word_index.items()])\n",
    "decoded_review = ' '.join(\n",
    "    [reversed_word_index.get(i - 3, '?') for i in train_data[0]])\n",
    "print(f'Review: {train_data[0]}')\n",
    "print(f'Review decoding: {decoded_review}')"
   ]
  },
  {
   "cell_type": "markdown",
   "id": "e5ceaa38",
   "metadata": {},
   "source": [
    "## Preparing the data\n",
    "A Neuronal Network need tensor as a input, so we need to transform each review to tensor. For this porpuse we use the One-Hot encoding for train and test data. One-Hot tensors will have shape of (10.000,0)\n",
    "Train and test labels are encoding as float."
   ]
  },
  {
   "cell_type": "code",
   "execution_count": 3,
   "id": "3b886e73",
   "metadata": {},
   "outputs": [],
   "source": [
    "import numpy as np\n",
    "def vectorize_sequences(sequence, dimension=10000):\n",
    "    results = np.zeros((len(sequence), dimension))\n",
    "    for i, sequence in enumerate(sequence):\n",
    "        results[i, sequence] = 1.\n",
    "        \n",
    "    return results\n",
    "    \n",
    "x_train = vectorize_sequences(train_data)\n",
    "x_test = vectorize_sequences(test_data)\n",
    "\n",
    "y_train = np.asarray(train_labels).astype('float32')\n",
    "y_test = np.asarray(test_labels).astype('float32')"
   ]
  },
  {
   "cell_type": "markdown",
   "id": "eb8ebe53",
   "metadata": {},
   "source": [
    "## Bulding the Neuronal Network\n",
    "The architecture selected for the networks consists of two hidden layers with 6 hiddens units per layer. \n",
    "Relu is selected for activation fuction of the hidden layers, for output layer Sigmoid function is selected as activation function."
   ]
  },
  {
   "cell_type": "code",
   "execution_count": 4,
   "id": "732f867f",
   "metadata": {},
   "outputs": [],
   "source": [
    "from tensorflow.keras import models, layers\n",
    "\n",
    "model = models.Sequential()\n",
    "model.add(layers.Dense(16, activation='relu', input_shape=(10000,)))\n",
    "model.add(layers.Dense(16, activation='relu'))\n",
    "model.add(layers.Dense(1, activation='sigmoid'))"
   ]
  },
  {
   "cell_type": "markdown",
   "id": "1e1cdbcb",
   "metadata": {},
   "source": [
    "### Compiling the model\n",
    "For the compiling step it is necessary to select a loss function and a optimizer.\n",
    "Due to we are facing a binary classification problem _binary_crossentropy_ is selected as loss function. The crossentropy is a good choice when the network output class probabilities\n",
    "The selected optimizer is  _rmsprop_, it use the magnitude of recent gradients to normalize the gradients. It keep a moving average over the root mean squared gradients, by which we divide the current gradient."
   ]
  },
  {
   "cell_type": "code",
   "execution_count": 5,
   "id": "0ca10014",
   "metadata": {},
   "outputs": [],
   "source": [
    "model.compile(optimizer='rmsprop', loss='binary_crossentropy', metrics=['accuracy'])"
   ]
  },
  {
   "cell_type": "markdown",
   "id": "ad050774",
   "metadata": {},
   "source": [
    "The optimizer can be configured, importing it from keras.optimizers. We can change the value of the learning rate, that can be explained speed at which the network learns.\n",
    "Also, we can change the metrics to binary precision to better suit the problem."
   ]
  },
  {
   "cell_type": "code",
   "execution_count": 6,
   "id": "37722c1e",
   "metadata": {},
   "outputs": [],
   "source": [
    "from tensorflow.keras import optimizers\n",
    "from tensorflow.keras import metrics\n",
    "model.compile(optimizer=optimizers.RMSprop(lr=0.001),\n",
    "              loss='binary_crossentropy',\n",
    "              metrics=[metrics.binary_accuracy])"
   ]
  },
  {
   "cell_type": "markdown",
   "id": "2d36398c",
   "metadata": {},
   "source": [
    "### Training the model\n",
    "When the model is compiled it's time to train it. Before, training data is splitted into train and validation data. For the validation data 10.000 samples will be selected."
   ]
  },
  {
   "cell_type": "code",
   "execution_count": 7,
   "id": "218ec6d9",
   "metadata": {},
   "outputs": [],
   "source": [
    "x_val = x_train[:10000]\n",
    "partial_x_train = x_train[10000:]\n",
    "\n",
    "y_val = y_train[:10000]\n",
    "partial_y_train = y_train[10000:]"
   ]
  },
  {
   "cell_type": "markdown",
   "id": "859677ec",
   "metadata": {},
   "source": [
    "Now the model is trained for 20 epochs, in mini batches of 512 examples. The validation data is passed through argument."
   ]
  },
  {
   "cell_type": "code",
   "execution_count": 8,
   "id": "39092dc7",
   "metadata": {},
   "outputs": [
    {
     "name": "stdout",
     "output_type": "stream",
     "text": [
      "Epoch 1/20\n",
      "30/30 [==============================] - 2s 51ms/step - loss: 0.6127 - binary_accuracy: 0.6786 - val_loss: 0.4046 - val_binary_accuracy: 0.8696\n",
      "Epoch 2/20\n",
      "30/30 [==============================] - 1s 19ms/step - loss: 0.3445 - binary_accuracy: 0.9010 - val_loss: 0.3173 - val_binary_accuracy: 0.8871\n",
      "Epoch 3/20\n",
      "30/30 [==============================] - 1s 19ms/step - loss: 0.2455 - binary_accuracy: 0.9270 - val_loss: 0.2909 - val_binary_accuracy: 0.8867\n",
      "Epoch 4/20\n",
      "30/30 [==============================] - 1s 19ms/step - loss: 0.1856 - binary_accuracy: 0.9463 - val_loss: 0.2861 - val_binary_accuracy: 0.8857\n",
      "Epoch 5/20\n",
      "30/30 [==============================] - 1s 19ms/step - loss: 0.1488 - binary_accuracy: 0.9578 - val_loss: 0.2791 - val_binary_accuracy: 0.8887\n",
      "Epoch 6/20\n",
      "30/30 [==============================] - 1s 19ms/step - loss: 0.1231 - binary_accuracy: 0.9661 - val_loss: 0.2981 - val_binary_accuracy: 0.8817\n",
      "Epoch 7/20\n",
      "30/30 [==============================] - 1s 19ms/step - loss: 0.0997 - binary_accuracy: 0.9722 - val_loss: 0.3043 - val_binary_accuracy: 0.8813\n",
      "Epoch 8/20\n",
      "30/30 [==============================] - 1s 19ms/step - loss: 0.0834 - binary_accuracy: 0.9787 - val_loss: 0.3591 - val_binary_accuracy: 0.8720\n",
      "Epoch 9/20\n",
      "30/30 [==============================] - 1s 19ms/step - loss: 0.0713 - binary_accuracy: 0.9819 - val_loss: 0.3408 - val_binary_accuracy: 0.8784\n",
      "Epoch 10/20\n",
      "30/30 [==============================] - 1s 19ms/step - loss: 0.0544 - binary_accuracy: 0.9882 - val_loss: 0.4054 - val_binary_accuracy: 0.8712\n",
      "Epoch 11/20\n",
      "30/30 [==============================] - 1s 19ms/step - loss: 0.0464 - binary_accuracy: 0.9906 - val_loss: 0.3909 - val_binary_accuracy: 0.8763\n",
      "Epoch 12/20\n",
      "30/30 [==============================] - 1s 19ms/step - loss: 0.0344 - binary_accuracy: 0.9926 - val_loss: 0.4213 - val_binary_accuracy: 0.8730\n",
      "Epoch 13/20\n",
      "30/30 [==============================] - 1s 19ms/step - loss: 0.0274 - binary_accuracy: 0.9960 - val_loss: 0.4479 - val_binary_accuracy: 0.8722\n",
      "Epoch 14/20\n",
      "30/30 [==============================] - 1s 19ms/step - loss: 0.0200 - binary_accuracy: 0.9976 - val_loss: 0.4736 - val_binary_accuracy: 0.8710\n",
      "Epoch 15/20\n",
      "30/30 [==============================] - 1s 19ms/step - loss: 0.0163 - binary_accuracy: 0.9980 - val_loss: 0.5309 - val_binary_accuracy: 0.8644\n",
      "Epoch 16/20\n",
      "30/30 [==============================] - 1s 19ms/step - loss: 0.0133 - binary_accuracy: 0.9984 - val_loss: 0.5398 - val_binary_accuracy: 0.8684\n",
      "Epoch 17/20\n",
      "30/30 [==============================] - 1s 19ms/step - loss: 0.0090 - binary_accuracy: 0.9994 - val_loss: 0.5785 - val_binary_accuracy: 0.8644\n",
      "Epoch 18/20\n",
      "30/30 [==============================] - 1s 19ms/step - loss: 0.0065 - binary_accuracy: 0.9997 - val_loss: 0.6065 - val_binary_accuracy: 0.8701\n",
      "Epoch 19/20\n",
      "30/30 [==============================] - 1s 19ms/step - loss: 0.0058 - binary_accuracy: 0.9998 - val_loss: 0.6477 - val_binary_accuracy: 0.8642\n",
      "Epoch 20/20\n",
      "30/30 [==============================] - 1s 19ms/step - loss: 0.0048 - binary_accuracy: 0.9996 - val_loss: 0.6773 - val_binary_accuracy: 0.8660\n"
     ]
    }
   ],
   "source": [
    "history = model.fit(partial_x_train, partial_y_train, epochs=20, batch_size=512,\n",
    "                    validation_data=(x_val, y_val))"
   ]
  },
  {
   "cell_type": "markdown",
   "id": "2a65c202",
   "metadata": {},
   "source": [
    "When the fitting proccess is finished we have dictionary with data about everything that happend during training.\n",
    "### Plotting the data\n",
    "With this dictionary we can plot the metrics that were monitored. Let´s see a plot with training accuracy and loss."
   ]
  },
  {
   "cell_type": "code",
   "execution_count": 12,
   "id": "efea3ccb",
   "metadata": {},
   "outputs": [
    {
     "data": {
      "image/png": "[encoded data removed]",
      "text/plain": [
       "<Figure size 432x288 with 1 Axes>"
      ]
     },
     "metadata": {
      "needs_background": "light"
     },
     "output_type": "display_data"
    }
   ],
   "source": [
    "import matplotlib.pyplot as plt\n",
    "\n",
    "history_dict = history.history\n",
    "loss_values = history_dict['loss']\n",
    "val_loss_values = history_dict['val_loss']\n",
    "\n",
    "epochs = range(1, len(loss_values) + 1)\n",
    "plt.plot(epochs, loss_values, 'bo', label='Training Loss')\n",
    "plt.plot(epochs, val_loss_values, 'r', label='Validation Loss')\n",
    "plt.title('Training and Validation loss')\n",
    "plt.xlabel('Epochs')\n",
    "plt.ylabel('Loss')\n",
    "plt.legend()\n",
    "\n",
    "plt.show()"
   ]
  },
  {
   "cell_type": "code",
   "execution_count": 15,
   "id": "f3751e50",
   "metadata": {},
   "outputs": [
    {
     "data": {
      "image/png": "[encoded data removed]",
      "text/plain": [
       "<Figure size 432x288 with 1 Axes>"
      ]
     },
     "metadata": {
      "needs_background": "light"
     },
     "output_type": "display_data"
    }
   ],
   "source": [
    "plt.clf()\n",
    "\n",
    "acc_values = history_dict['binary_accuracy']\n",
    "val_acc_values = history_dict['val_binary_accuracy']\n",
    "\n",
    "plt.plot(epochs, acc_values, 'bo', label='Training Binary Accuracy')\n",
    "plt.plot(epochs, val_acc_values, 'r', label='Validation Binary Accuracy')\n",
    "plt.title('Training and Validation binary accuracy')\n",
    "plt.xlabel('Epochs')\n",
    "plt.ylabel('Acc')\n",
    "plt.legend()\n",
    "\n",
    "plt.show()"
   ]
  },
  {
   "cell_type": "markdown",
   "id": "29d86f8f",
   "metadata": {},
   "source": [
    "The plots show how the network perform better in the training, that is the **overfitting**. The model isn't generalize well the data. In this case using only 3 epochs is enought to prevent overfitting."
   ]
  },
  {
   "cell_type": "code",
   "execution_count": 26,
   "id": "c04ea0d5",
   "metadata": {},
   "outputs": [
    {
     "name": "stdout",
     "output_type": "stream",
     "text": [
      "Epoch 1/4\n",
      "30/30 [==============================] - 0s 15ms/step - loss: 1.5820e-06 - binary_accuracy: 1.0000\n",
      "Epoch 2/4\n",
      "30/30 [==============================] - 0s 11ms/step - loss: 9.7271e-07 - binary_accuracy: 1.0000\n",
      "Epoch 3/4\n",
      "30/30 [==============================] - 0s 11ms/step - loss: 8.0770e-07 - binary_accuracy: 1.0000\n",
      "Epoch 4/4\n",
      "30/30 [==============================] - 0s 10ms/step - loss: 7.0461e-07 - binary_accuracy: 1.0000\n",
      "782/782 [==============================] - 2s 2ms/step - loss: 1.9143 - binary_accuracy: 0.8418\n"
     ]
    },
    {
     "data": {
      "text/plain": [
       "[1.9142792224884033, 0.8417999744415283]"
      ]
     },
     "execution_count": 26,
     "metadata": {},
     "output_type": "execute_result"
    }
   ],
   "source": [
    "history = model.fit(partial_x_train, partial_y_train, epochs=4, batch_size=512)\n",
    "results = model.evaluate(x_test, y_test)\n",
    "results"
   ]
  },
  {
   "cell_type": "markdown",
   "id": "b587717e",
   "metadata": {},
   "source": [
    "The results obtained are not good as state of the art solutions. A good practice to improve the model is to choose different values for the params and test the different model to select which have better performance\n",
    "#### Making predictions\n",
    "Keras have a function to make predictions for new data."
   ]
  },
  {
   "cell_type": "code",
   "execution_count": 30,
   "id": "50504039",
   "metadata": {},
   "outputs": [
    {
     "data": {
      "text/plain": [
       "array([[1.9059112e-08],\n",
       "       [1.0000000e+00],\n",
       "       [9.9999988e-01],\n",
       "       ...,\n",
       "       [3.3434284e-07],\n",
       "       [2.7888012e-07],\n",
       "       [7.6351821e-01]], dtype=float32)"
      ]
     },
     "execution_count": 30,
     "metadata": {},
     "output_type": "execute_result"
    }
   ],
   "source": [
    "model.predict(x_test)"
   ]
  }
 ],
 "metadata": {
  "kernelspec": {
   "display_name": "deep_learning",
   "language": "python",
   "name": "deep_learning"
  },
  "language_info": {
   "codemirror_mode": {
    "name": "ipython",
    "version": 3
   },
   "file_extension": ".py",
   "mimetype": "text/x-python",
   "name": "python",
   "nbconvert_exporter": "python",
   "pygments_lexer": "ipython3",
   "version": "3.8.0"
  }
 },
 "nbformat": 4,
 "nbformat_minor": 5
}
